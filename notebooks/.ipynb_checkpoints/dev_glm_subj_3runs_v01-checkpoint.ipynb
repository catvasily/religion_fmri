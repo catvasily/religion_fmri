{
 "cells": [
  {
   "cell_type": "code",
   "execution_count": 28,
   "id": "3349b00e-3676-4e4d-8385-17a6982680b6",
   "metadata": {},
   "outputs": [],
   "source": [
    "from pathlib import Path\n",
    "import os, sys\n",
    "import os.path as path\n",
    "import numpy as np\n",
    "import pandas as pd\n",
    "\n",
    "import matplotlib.patheffects as path_effects\n",
    "import matplotlib.pyplot as plt\n",
    "import nibabel\n",
    "import json\n",
    "\n",
    "from nilearn import plotting, image\n",
    "from nilearn.glm.first_level import FirstLevelModel\n",
    "from nilearn.reporting import make_glm_report\n",
    "from nilearn.plotting import plot_design_matrix\n",
    "from nilearn.plotting import plot_contrast_matrix\n",
    "from nilearn.plotting import plot_event\n",
    "from nilearn.glm.first_level import make_first_level_design_matrix"
   ]
  },
  {
   "cell_type": "code",
   "execution_count": 5,
   "id": "d917ab3b-69d9-4ef1-9c8b-2a71e6e3cec2",
   "metadata": {},
   "outputs": [
    {
     "data": {
      "text/plain": [
       "'/project/6019337/vvakorin/sdata2/religion_fmri'"
      ]
     },
     "execution_count": 5,
     "metadata": {},
     "output_type": "execute_result"
    }
   ],
   "source": [
    "# Move up to the project root\n",
    "project_root = '/project/6019337/vvakorin/sdata2/religion_fmri/'\n",
    "os.chdir(project_root)\n",
    "os.getcwd()"
   ]
  },
  {
   "cell_type": "code",
   "execution_count": 29,
   "id": "14fb8a5b-8eb6-4af1-abe3-0532c34c3434",
   "metadata": {},
   "outputs": [],
   "source": [
    "# Ensure __file__ is an absolute path\n",
    "# __file__ = os.path.realpath(__file__)    # expand potentially relative path to a full one\n",
    "\n",
    "# Lambda function to generate full file paths\n",
    "# pathname = lambda fname: os.path.join(os.path.dirname(__file__), fname)\n",
    "\n",
    "# Function to generate full file paths based on the current working directory\n",
    "pathname = lambda fname: os.path.join(Path.cwd(), fname)\n",
    "\n",
    "# Append src to the Python path\n",
    "sys.path.append(pathname('src'))"
   ]
  },
  {
   "cell_type": "code",
   "execution_count": 25,
   "id": "b09e3e97-1455-4b71-946f-4bd5edbf76e4",
   "metadata": {},
   "outputs": [
    {
     "data": {
      "text/plain": [
       "'/project/6019337/vvakorin/sdata2/religion_fmri/src'"
      ]
     },
     "execution_count": 25,
     "metadata": {},
     "output_type": "execute_result"
    }
   ],
   "source": [
    "pathname('src')"
   ]
  },
  {
   "cell_type": "code",
   "execution_count": null,
   "id": "887540a0-fedc-485f-98f2-d91ebd3136c9",
   "metadata": {},
   "outputs": [],
   "source": []
  }
 ],
 "metadata": {
  "kernelspec": {
   "display_name": "Python 3 (ipykernel)",
   "language": "python",
   "name": "python3"
  },
  "language_info": {
   "codemirror_mode": {
    "name": "ipython",
    "version": 3
   },
   "file_extension": ".py",
   "mimetype": "text/x-python",
   "name": "python",
   "nbconvert_exporter": "python",
   "pygments_lexer": "ipython3",
   "version": "3.11.5"
  }
 },
 "nbformat": 4,
 "nbformat_minor": 5
}
