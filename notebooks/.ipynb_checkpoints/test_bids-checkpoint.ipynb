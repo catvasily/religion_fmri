{
 "cells": [
  {
   "cell_type": "code",
   "execution_count": 5,
   "id": "1d3b8e8c-7621-4383-8279-303f8ba1eeb2",
   "metadata": {},
   "outputs": [],
   "source": [
    "from bids import BIDSLayout"
   ]
  },
  {
   "cell_type": "code",
   "execution_count": null,
   "id": "1a0e4c26-5d0c-44a3-ab4a-6df3bcae5ec7",
   "metadata": {},
   "outputs": [],
   "source": [
    "from bids.validator import BIDSValidator"
   ]
  },
  {
   "cell_type": "code",
   "execution_count": 3,
   "id": "d6380c92-281d-4466-b6a8-1649e312d007",
   "metadata": {},
   "outputs": [],
   "source": [
    "bids_dir = '/project/6019337/databases/religion/bids/main'"
   ]
  },
  {
   "cell_type": "code",
   "execution_count": null,
   "id": "bb155255-a276-478f-8e62-d52695df7433",
   "metadata": {},
   "outputs": [],
   "source": [
    "# Initialize the layout\n",
    "layout = BIDSLayout(bids_dir)"
   ]
  },
  {
   "cell_type": "code",
   "execution_count": null,
   "id": "26ff35d8-1769-4492-a24f-146062244d7f",
   "metadata": {},
   "outputs": [],
   "source": [
    "def validate_bids(bids_dir):\n",
    "    # Initialize a BIDSLayout, which will validate by default\n",
    "    layout = BIDSLayout(bids_dir, validate=True)\n",
    "    if layout:\n",
    "        print(\"BIDS validation successful.\")\n",
    "    else:\n",
    "        print(\"BIDS validation failed.\")\n",
    "\n",
    "# Example usage:\n",
    "validate_bids(bids_dir)"
   ]
  },
  {
   "cell_type": "code",
   "execution_count": null,
   "id": "7a9ada95-b545-42a8-bea1-71352715b80a",
   "metadata": {},
   "outputs": [],
   "source": []
  }
 ],
 "metadata": {
  "kernelspec": {
   "display_name": "Python 3 (ipykernel)",
   "language": "python",
   "name": "python3"
  },
  "language_info": {
   "codemirror_mode": {
    "name": "ipython",
    "version": 3
   },
   "file_extension": ".py",
   "mimetype": "text/x-python",
   "name": "python",
   "nbconvert_exporter": "python",
   "pygments_lexer": "ipython3",
   "version": "3.11.5"
  }
 },
 "nbformat": 4,
 "nbformat_minor": 5
}
