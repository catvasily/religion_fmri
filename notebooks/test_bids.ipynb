{
 "cells": [
  {
   "cell_type": "code",
   "execution_count": 14,
   "id": "1d3b8e8c-7621-4383-8279-303f8ba1eeb2",
   "metadata": {},
   "outputs": [],
   "source": [
    "from bids import BIDSLayout"
   ]
  },
  {
   "cell_type": "code",
   "execution_count": 15,
   "id": "1a0e4c26-5d0c-44a3-ab4a-6df3bcae5ec7",
   "metadata": {},
   "outputs": [
    {
     "ename": "ModuleNotFoundError",
     "evalue": "No module named 'bids.validator'",
     "output_type": "error",
     "traceback": [
      "\u001b[0;31m---------------------------------------------------------------------------\u001b[0m",
      "\u001b[0;31mModuleNotFoundError\u001b[0m                       Traceback (most recent call last)",
      "Cell \u001b[0;32mIn[15], line 1\u001b[0m\n\u001b[0;32m----> 1\u001b[0m \u001b[38;5;28;01mfrom\u001b[39;00m \u001b[38;5;21;01mbids\u001b[39;00m\u001b[38;5;21;01m.\u001b[39;00m\u001b[38;5;21;01mvalidator\u001b[39;00m \u001b[38;5;28;01mimport\u001b[39;00m BIDSValidator\n",
      "\u001b[0;31mModuleNotFoundError\u001b[0m: No module named 'bids.validator'"
     ]
    }
   ],
   "source": [
    "from bids.validator import BIDSValidator"
   ]
  },
  {
   "cell_type": "code",
   "execution_count": 12,
   "id": "d6380c92-281d-4466-b6a8-1649e312d007",
   "metadata": {},
   "outputs": [],
   "source": [
    "bids_dir = '/project/6019337/databases/religion/bids/main'"
   ]
  },
  {
   "cell_type": "code",
   "execution_count": 16,
   "id": "bb155255-a276-478f-8e62-d52695df7433",
   "metadata": {},
   "outputs": [],
   "source": [
    "# Initialize the layout\n",
    "layout = BIDSLayout(bids_dir)"
   ]
  },
  {
   "cell_type": "code",
   "execution_count": 17,
   "id": "26ff35d8-1769-4492-a24f-146062244d7f",
   "metadata": {},
   "outputs": [
    {
     "name": "stdout",
     "output_type": "stream",
     "text": [
      "BIDS validation successful.\n"
     ]
    }
   ],
   "source": [
    "def validate_bids(bids_dir):\n",
    "    # Initialize a BIDSLayout, which will validate by default\n",
    "    layout = BIDSLayout(bids_dir, validate=True)\n",
    "    if layout:\n",
    "        print(\"BIDS validation successful.\")\n",
    "    else:\n",
    "        print(\"BIDS validation failed.\")\n",
    "\n",
    "# Example usage:\n",
    "validate_bids(bids_dir)"
   ]
  },
  {
   "cell_type": "code",
   "execution_count": 18,
   "id": "7a9ada95-b545-42a8-bea1-71352715b80a",
   "metadata": {},
   "outputs": [
    {
     "name": "stdout",
     "output_type": "stream",
     "text": [
      "/project/6019337/databases/religion/bids/main\n"
     ]
    }
   ],
   "source": [
    "print(bids_dir)"
   ]
  },
  {
   "cell_type": "code",
   "execution_count": 19,
   "id": "e6a12047-fc97-4f67-8bc6-6ce9a4a4b4fc",
   "metadata": {},
   "outputs": [
    {
     "data": {
      "text/plain": [
       "BIDS Layout: ...7/databases/religion/bids/main | Subjects: 53 | Sessions: 53 | Runs: 159"
      ]
     },
     "execution_count": 19,
     "metadata": {},
     "output_type": "execute_result"
    }
   ],
   "source": [
    "layout"
   ]
  },
  {
   "cell_type": "code",
   "execution_count": null,
   "id": "a940bcb7-5778-47bf-9b51-ba67abc80868",
   "metadata": {},
   "outputs": [],
   "source": []
  }
 ],
 "metadata": {
  "kernelspec": {
   "display_name": "Python 3 (ipykernel)",
   "language": "python",
   "name": "python3"
  },
  "language_info": {
   "codemirror_mode": {
    "name": "ipython",
    "version": 3
   },
   "file_extension": ".py",
   "mimetype": "text/x-python",
   "name": "python",
   "nbconvert_exporter": "python",
   "pygments_lexer": "ipython3",
   "version": "3.11.5"
  }
 },
 "nbformat": 4,
 "nbformat_minor": 5
}
